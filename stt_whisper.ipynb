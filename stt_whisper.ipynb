{
 "cells": [
  {
   "cell_type": "code",
   "execution_count": 1,
   "id": "941281a5-dff4-4097-8497-59315695531d",
   "metadata": {},
   "outputs": [],
   "source": [
    "import os \n",
    "import whisper"
   ]
  },
  {
   "cell_type": "markdown",
   "id": "5fc1b996-e53d-4dfa-a4a6-ebf8cefd2044",
   "metadata": {},
   "source": [
    "# English to English"
   ]
  },
  {
   "cell_type": "code",
   "execution_count": 2,
   "id": "bb23d417-803f-45be-a75c-19503f8bc736",
   "metadata": {},
   "outputs": [
    {
     "name": "stderr",
     "output_type": "stream",
     "text": [
      "C:\\Users\\dhruv\\OneDrive\\Desktop\\New folder (7)\\Cyfuture-Assignment\\env\\Lib\\site-packages\\whisper\\transcribe.py:132: UserWarning: FP16 is not supported on CPU; using FP32 instead\n",
      "  warnings.warn(\"FP16 is not supported on CPU; using FP32 instead\")\n"
     ]
    }
   ],
   "source": [
    "model = whisper.load_model(\"medium\") \n",
    "result = model.transcribe(\"whisper_ai.mp3\")"
   ]
  },
  {
   "cell_type": "code",
   "execution_count": 3,
   "id": "90b9de88-f98a-46cb-a2a5-6a6b6911f692",
   "metadata": {},
   "outputs": [
    {
     "name": "stdout",
     "output_type": "stream",
     "text": [
      " Machine learning is an important technology that learns from data.\n"
     ]
    }
   ],
   "source": [
    "print(result[\"text\"])"
   ]
  },
  {
   "cell_type": "code",
   "execution_count": 4,
   "id": "6adfc01d-c081-4b58-bf9a-3f921564f233",
   "metadata": {},
   "outputs": [
    {
     "name": "stdout",
     "output_type": "stream",
     "text": [
      "File is saved\n"
     ]
    }
   ],
   "source": [
    "with open(\"ENGLISH_transcription.txt\", \"w\", encoding=\"utf-8\") as f:\n",
    "    f.write(result[\"text\"])\n",
    "    \n",
    "print(\"File is saved\")"
   ]
  },
  {
   "cell_type": "markdown",
   "id": "910b493b-93e3-49dd-9610-7065d335b2d6",
   "metadata": {},
   "source": [
    "# Hindi to Hindi"
   ]
  },
  {
   "cell_type": "code",
   "execution_count": 5,
   "id": "ec7077e5-a57a-43cb-acf3-3be8880c8535",
   "metadata": {},
   "outputs": [
    {
     "name": "stdout",
     "output_type": "stream",
     "text": [
      " Machine Learning एक महत्वपूलन तक्नीक है जो देटा से सीखती है।\n"
     ]
    }
   ],
   "source": [
    "result = model.transcribe(\"whisper_ai_hindi.mp3\", language=\"hi\", )"
   ]
  },
  {
   "cell_type": "code",
   "execution_count": 6,
   "id": "e49c42fa-62e3-43f8-935a-06bc7980fc1f",
   "metadata": {},
   "outputs": [
    {
     "name": "stdout",
     "output_type": "stream",
     "text": [
      " Machine Learning एक महत्वपूलन तक्नीक है जो देटा से सीखती है।\n"
     ]
    }
   ],
   "source": [
    "print(result[\"text\"])"
   ]
  },
  {
   "cell_type": "code",
   "execution_count": 7,
   "id": "588650c8-b9f7-4737-9c66-1338ae352770",
   "metadata": {},
   "outputs": [
    {
     "name": "stdout",
     "output_type": "stream",
     "text": [
      "File is saved\n"
     ]
    }
   ],
   "source": [
    "with open(\"hindi_transcription.txt\", \"w\", encoding=\"utf-8\") as f:\n",
    "    f.write(result[\"text\"])\n",
    "\n",
    "print(\"File is saved\")"
   ]
  },
  {
   "cell_type": "code",
   "execution_count": null,
   "id": "0d44efa0-624e-44b4-993c-2dea99e912fd",
   "metadata": {},
   "outputs": [],
   "source": []
  }
 ],
 "metadata": {
  "kernelspec": {
   "display_name": "stt_whisper",
   "language": "python",
   "name": "stt_whisper"
  },
  "language_info": {
   "codemirror_mode": {
    "name": "ipython",
    "version": 3
   },
   "file_extension": ".py",
   "mimetype": "text/x-python",
   "name": "python",
   "nbconvert_exporter": "python",
   "pygments_lexer": "ipython3",
   "version": "3.12.1"
  }
 },
 "nbformat": 4,
 "nbformat_minor": 5
}
